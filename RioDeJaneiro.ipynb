{
 "cells": [
  {
   "cell_type": "markdown",
   "id": "virgin-parent",
   "metadata": {},
   "source": [
    "# Rio de Janeiro's Airbnb in Carnival\n"
   ]
  },
  {
   "cell_type": "markdown",
   "id": "spatial-officer",
   "metadata": {},
   "source": [
    "Hello! I'm Stella, a brazillian woman who loves the city of Rio de Janeiro!\n",
    "\n",
    "So, for my first Data Scientist Nanodegree project, I'd like to take a look at Rio de Janeiro's Airbnb dataset to answer some questions about this fabulous city and see if Airbnb is a viable alternative to book a room in Rio de Janeiro during Carnival.\n",
    "\n",
    "During the months of February and March, the city of Rio de Janeiro hosts a popular festival called Carnival. A lot of people look for different websites to book a room, including the Aribnb website. Let's see if this site is a viable alternative to spend your days celebrating Carnival in Rio de Janeiro. \n"
   ]
  },
  {
   "cell_type": "markdown",
   "id": "completed-reduction",
   "metadata": {},
   "source": [
    "# Business Understanding\n",
    "\n",
    "Let's take a look at Rio de Janeiro's Airbnb datasets to answer the questions below:\n",
    "\n",
    "1) How many neighborhoods were listed in Rio de Janeiro?\n",
    "\n",
    "2) What was the most listed type of room in Rio de Janeiro? \n",
    "\n",
    "3) What was the 10 most listed neighbourhoods in Rio de Janeiro?\n",
    "\n",
    "4) What was the the total listings during the Carnival holidays in 2021 in Rio de Janeiro? \n",
    "\n",
    "5) What was the average price to book a room during the period of the Carnival hollidays in Rio de Janeiro?"
   ]
  },
  {
   "cell_type": "markdown",
   "id": "altered-pennsylvania",
   "metadata": {},
   "source": [
    "# Data Understanding\n",
    "\n",
    "We will use two datasets from Airbnb. \n",
    "\n",
    "In the section below, we will gather the information reading two files: listings.csv and calendar.csv\n",
    "\n",
    "The listings.csv file provides information about the name of the hosts, dates of the last reviews, neighbourhoods and types of rooms. "
   ]
  },
  {
   "cell_type": "code",
   "execution_count": 3,
   "id": "sweet-treatment",
   "metadata": {
    "scrolled": true
   },
   "outputs": [],
   "source": [
    "# The first step is to import the necessary libraries and read the datasets\n",
    "\n",
    "import numpy as np\n",
    "import pandas as pd\n",
    "import matplotlib.pyplot as plt\n",
    "%matplotlib inline\n",
    "\n",
    "# Here, we are gathering the data \n",
    "\n",
    "df_calendar = pd.read_csv('./calendar.csv')\n",
    "df_listings = pd.read_csv('./listings.csv')\n",
    "\n"
   ]
  },
  {
   "cell_type": "code",
   "execution_count": 4,
   "id": "mediterranean-proposition",
   "metadata": {},
   "outputs": [
    {
     "data": {
      "text/html": [
       "<div>\n",
       "<style scoped>\n",
       "    .dataframe tbody tr th:only-of-type {\n",
       "        vertical-align: middle;\n",
       "    }\n",
       "\n",
       "    .dataframe tbody tr th {\n",
       "        vertical-align: top;\n",
       "    }\n",
       "\n",
       "    .dataframe thead th {\n",
       "        text-align: right;\n",
       "    }\n",
       "</style>\n",
       "<table border=\"1\" class=\"dataframe\">\n",
       "  <thead>\n",
       "    <tr style=\"text-align: right;\">\n",
       "      <th></th>\n",
       "      <th>id</th>\n",
       "      <th>name</th>\n",
       "      <th>host_id</th>\n",
       "      <th>host_name</th>\n",
       "      <th>neighbourhood_group</th>\n",
       "      <th>neighbourhood</th>\n",
       "      <th>latitude</th>\n",
       "      <th>longitude</th>\n",
       "      <th>room_type</th>\n",
       "      <th>price</th>\n",
       "      <th>minimum_nights</th>\n",
       "      <th>number_of_reviews</th>\n",
       "      <th>last_review</th>\n",
       "      <th>reviews_per_month</th>\n",
       "      <th>calculated_host_listings_count</th>\n",
       "      <th>availability_365</th>\n",
       "    </tr>\n",
       "  </thead>\n",
       "  <tbody>\n",
       "    <tr>\n",
       "      <th>0</th>\n",
       "      <td>17878</td>\n",
       "      <td>Very Nice 2Br in Copacabana w. balcony, fast WiFi</td>\n",
       "      <td>68997</td>\n",
       "      <td>Matthias</td>\n",
       "      <td>NaN</td>\n",
       "      <td>Copacabana</td>\n",
       "      <td>-22.96592</td>\n",
       "      <td>-43.17896</td>\n",
       "      <td>Entire home/apt</td>\n",
       "      <td>221</td>\n",
       "      <td>5</td>\n",
       "      <td>260</td>\n",
       "      <td>2021-02-08</td>\n",
       "      <td>2.01</td>\n",
       "      <td>1</td>\n",
       "      <td>304</td>\n",
       "    </tr>\n",
       "    <tr>\n",
       "      <th>1</th>\n",
       "      <td>24480</td>\n",
       "      <td>Nice and cozy near Ipanema Beach</td>\n",
       "      <td>99249</td>\n",
       "      <td>Goya</td>\n",
       "      <td>NaN</td>\n",
       "      <td>Ipanema</td>\n",
       "      <td>-22.98570</td>\n",
       "      <td>-43.20193</td>\n",
       "      <td>Entire home/apt</td>\n",
       "      <td>307</td>\n",
       "      <td>3</td>\n",
       "      <td>85</td>\n",
       "      <td>2018-02-14</td>\n",
       "      <td>0.67</td>\n",
       "      <td>1</td>\n",
       "      <td>10</td>\n",
       "    </tr>\n",
       "    <tr>\n",
       "      <th>2</th>\n",
       "      <td>25026</td>\n",
       "      <td>Beautiful Modern Decorated Studio in Copa</td>\n",
       "      <td>3746246</td>\n",
       "      <td>Ghizlane</td>\n",
       "      <td>NaN</td>\n",
       "      <td>Copacabana</td>\n",
       "      <td>-22.97712</td>\n",
       "      <td>-43.19045</td>\n",
       "      <td>Entire home/apt</td>\n",
       "      <td>160</td>\n",
       "      <td>7</td>\n",
       "      <td>238</td>\n",
       "      <td>2020-02-15</td>\n",
       "      <td>1.82</td>\n",
       "      <td>11</td>\n",
       "      <td>328</td>\n",
       "    </tr>\n",
       "    <tr>\n",
       "      <th>3</th>\n",
       "      <td>35636</td>\n",
       "      <td>Cosy flat close to Ipanema beach</td>\n",
       "      <td>153232</td>\n",
       "      <td>Patricia</td>\n",
       "      <td>NaN</td>\n",
       "      <td>Ipanema</td>\n",
       "      <td>-22.98816</td>\n",
       "      <td>-43.19359</td>\n",
       "      <td>Entire home/apt</td>\n",
       "      <td>273</td>\n",
       "      <td>2</td>\n",
       "      <td>181</td>\n",
       "      <td>2020-03-15</td>\n",
       "      <td>2.02</td>\n",
       "      <td>1</td>\n",
       "      <td>207</td>\n",
       "    </tr>\n",
       "    <tr>\n",
       "      <th>4</th>\n",
       "      <td>35764</td>\n",
       "      <td>COPACABANA SEA BREEZE  -  RIO - 20 X Superhost</td>\n",
       "      <td>153691</td>\n",
       "      <td>Patricia Miranda &amp; Paulo</td>\n",
       "      <td>NaN</td>\n",
       "      <td>Copacabana</td>\n",
       "      <td>-22.98127</td>\n",
       "      <td>-43.19046</td>\n",
       "      <td>Entire home/apt</td>\n",
       "      <td>135</td>\n",
       "      <td>3</td>\n",
       "      <td>353</td>\n",
       "      <td>2021-02-10</td>\n",
       "      <td>2.79</td>\n",
       "      <td>1</td>\n",
       "      <td>101</td>\n",
       "    </tr>\n",
       "  </tbody>\n",
       "</table>\n",
       "</div>"
      ],
      "text/plain": [
       "      id                                               name  host_id  \\\n",
       "0  17878  Very Nice 2Br in Copacabana w. balcony, fast WiFi    68997   \n",
       "1  24480                   Nice and cozy near Ipanema Beach    99249   \n",
       "2  25026          Beautiful Modern Decorated Studio in Copa  3746246   \n",
       "3  35636                   Cosy flat close to Ipanema beach   153232   \n",
       "4  35764     COPACABANA SEA BREEZE  -  RIO - 20 X Superhost   153691   \n",
       "\n",
       "                  host_name  neighbourhood_group neighbourhood  latitude  \\\n",
       "0                  Matthias                  NaN    Copacabana -22.96592   \n",
       "1                      Goya                  NaN       Ipanema -22.98570   \n",
       "2                  Ghizlane                  NaN    Copacabana -22.97712   \n",
       "3                  Patricia                  NaN       Ipanema -22.98816   \n",
       "4  Patricia Miranda & Paulo                  NaN    Copacabana -22.98127   \n",
       "\n",
       "   longitude        room_type  price  minimum_nights  number_of_reviews  \\\n",
       "0  -43.17896  Entire home/apt    221               5                260   \n",
       "1  -43.20193  Entire home/apt    307               3                 85   \n",
       "2  -43.19045  Entire home/apt    160               7                238   \n",
       "3  -43.19359  Entire home/apt    273               2                181   \n",
       "4  -43.19046  Entire home/apt    135               3                353   \n",
       "\n",
       "  last_review  reviews_per_month  calculated_host_listings_count  \\\n",
       "0  2021-02-08               2.01                               1   \n",
       "1  2018-02-14               0.67                               1   \n",
       "2  2020-02-15               1.82                              11   \n",
       "3  2020-03-15               2.02                               1   \n",
       "4  2021-02-10               2.79                               1   \n",
       "\n",
       "   availability_365  \n",
       "0               304  \n",
       "1                10  \n",
       "2               328  \n",
       "3               207  \n",
       "4               101  "
      ]
     },
     "execution_count": 4,
     "metadata": {},
     "output_type": "execute_result"
    }
   ],
   "source": [
    "#Whe can take a quick look in the listings dataset with head() \n",
    "#In this step we are assessing the data of the listings in Rio de Janeiro\n",
    "df_listings.head()"
   ]
  },
  {
   "cell_type": "markdown",
   "id": "separate-outdoors",
   "metadata": {},
   "source": [
    "In the calendar.csv file we can see the id of the listings, the prices, the minimum and maximum number of nights"
   ]
  },
  {
   "cell_type": "code",
   "execution_count": 5,
   "id": "governing-eclipse",
   "metadata": {},
   "outputs": [
    {
     "data": {
      "text/html": [
       "<div>\n",
       "<style scoped>\n",
       "    .dataframe tbody tr th:only-of-type {\n",
       "        vertical-align: middle;\n",
       "    }\n",
       "\n",
       "    .dataframe tbody tr th {\n",
       "        vertical-align: top;\n",
       "    }\n",
       "\n",
       "    .dataframe thead th {\n",
       "        text-align: right;\n",
       "    }\n",
       "</style>\n",
       "<table border=\"1\" class=\"dataframe\">\n",
       "  <thead>\n",
       "    <tr style=\"text-align: right;\">\n",
       "      <th></th>\n",
       "      <th>listing_id</th>\n",
       "      <th>date</th>\n",
       "      <th>available</th>\n",
       "      <th>price</th>\n",
       "      <th>adjusted_price</th>\n",
       "      <th>minimum_nights</th>\n",
       "      <th>maximum_nights</th>\n",
       "    </tr>\n",
       "  </thead>\n",
       "  <tbody>\n",
       "    <tr>\n",
       "      <th>0</th>\n",
       "      <td>45766287</td>\n",
       "      <td>2021-02-23</td>\n",
       "      <td>f</td>\n",
       "      <td>$150.00</td>\n",
       "      <td>$150.00</td>\n",
       "      <td>2.0</td>\n",
       "      <td>1125.0</td>\n",
       "    </tr>\n",
       "    <tr>\n",
       "      <th>1</th>\n",
       "      <td>45764740</td>\n",
       "      <td>2021-02-24</td>\n",
       "      <td>f</td>\n",
       "      <td>$100.00</td>\n",
       "      <td>$100.00</td>\n",
       "      <td>1.0</td>\n",
       "      <td>4.0</td>\n",
       "    </tr>\n",
       "    <tr>\n",
       "      <th>2</th>\n",
       "      <td>45764740</td>\n",
       "      <td>2021-02-25</td>\n",
       "      <td>t</td>\n",
       "      <td>$100.00</td>\n",
       "      <td>$100.00</td>\n",
       "      <td>1.0</td>\n",
       "      <td>4.0</td>\n",
       "    </tr>\n",
       "    <tr>\n",
       "      <th>3</th>\n",
       "      <td>45764740</td>\n",
       "      <td>2021-02-26</td>\n",
       "      <td>t</td>\n",
       "      <td>$100.00</td>\n",
       "      <td>$100.00</td>\n",
       "      <td>1.0</td>\n",
       "      <td>4.0</td>\n",
       "    </tr>\n",
       "    <tr>\n",
       "      <th>4</th>\n",
       "      <td>45764740</td>\n",
       "      <td>2021-02-27</td>\n",
       "      <td>t</td>\n",
       "      <td>$100.00</td>\n",
       "      <td>$100.00</td>\n",
       "      <td>1.0</td>\n",
       "      <td>4.0</td>\n",
       "    </tr>\n",
       "  </tbody>\n",
       "</table>\n",
       "</div>"
      ],
      "text/plain": [
       "   listing_id        date available    price adjusted_price  minimum_nights  \\\n",
       "0    45766287  2021-02-23         f  $150.00        $150.00             2.0   \n",
       "1    45764740  2021-02-24         f  $100.00        $100.00             1.0   \n",
       "2    45764740  2021-02-25         t  $100.00        $100.00             1.0   \n",
       "3    45764740  2021-02-26         t  $100.00        $100.00             1.0   \n",
       "4    45764740  2021-02-27         t  $100.00        $100.00             1.0   \n",
       "\n",
       "   maximum_nights  \n",
       "0          1125.0  \n",
       "1             4.0  \n",
       "2             4.0  \n",
       "3             4.0  \n",
       "4             4.0  "
      ]
     },
     "execution_count": 5,
     "metadata": {},
     "output_type": "execute_result"
    }
   ],
   "source": [
    "df_calendar.head()"
   ]
  },
  {
   "cell_type": "markdown",
   "id": "continued-concentrate",
   "metadata": {},
   "source": [
    "# Preparing and Modeling Data\n"
   ]
  },
  {
   "cell_type": "markdown",
   "id": "gentle-extreme",
   "metadata": {},
   "source": [
    "The code below provide the information abou how many different neighborhoods were listed in Rio de Janeiro.\n",
    "\n",
    "1) How many neighborhoods were listed in Rio de Janeiro?\n",
    "\n",
    "R: 7712 neighbourhoods"
   ]
  },
  {
   "cell_type": "code",
   "execution_count": 14,
   "id": "boolean-organ",
   "metadata": {},
   "outputs": [
    {
     "data": {
      "text/plain": [
       "7712"
      ]
     },
     "execution_count": 14,
     "metadata": {},
     "output_type": "execute_result"
    }
   ],
   "source": [
    "# To find out how many neighborhoods were listed in Rio de Janeiro \n",
    "# This is the analyse step of the data science process\n",
    "\n",
    "def rio_neighbourhoods ():\n",
    "    neighbourhood_vals = df_listings.neighbourhood.value_counts()    \n",
    "    return neighbourhood_vals[0]\n",
    "\n",
    "rio_neighbourhoods()"
   ]
  },
  {
   "cell_type": "markdown",
   "id": "rental-church",
   "metadata": {},
   "source": [
    "In the next grafic we can see that the most listed type of room in Rio de Janeiro was the Entire home/apartment type.\n",
    "\n",
    "It was signifficantly more listed than the other type rooms, such as private room, shared room or hotel room.\n",
    "\n",
    "2) What was the most listed type of room in Rio de Janeiro? \n",
    "\n",
    "R: Entire home/apartment \n"
   ]
  },
  {
   "cell_type": "code",
   "execution_count": 22,
   "id": "bizarre-appendix",
   "metadata": {},
   "outputs": [
    {
     "data": {
      "image/png": "[encoded data removed]",
      "text/plain": [
       "<Figure size 432x288 with 1 Axes>"
      ]
     },
     "metadata": {
      "needs_background": "light"
     },
     "output_type": "display_data"
    }
   ],
   "source": [
    "#We can use the library to visualize the data \n",
    "\n",
    "def most_listed_type_room():\n",
    "    \"\"\" Plots a bar graphic of the most listed types of room in Rio de Janeiro\n",
    "    Parameters:\n",
    "    Return:\n",
    "        most_listed: a bar graphic of the most listed types of rooms\n",
    "    \"\"\"\n",
    "    room_type_vals = df_listings.room_type.value_counts()\n",
    "    most_listed = (room_type_vals/df_listings.shape[0]).plot(kind=\"bar\");\n",
    "    \n",
    "    return most_listed\n",
    "\n",
    "most_listed_type_room();plt.title(\"What kind of room are there?\");\n",
    "\n"
   ]
  },
  {
   "cell_type": "markdown",
   "id": "smart-blink",
   "metadata": {},
   "source": [
    "Since there were a lot of neighbourhoods listed in Rio de Janeiro, lets find out the 10 most listed ones:\n",
    "\n",
    "3) What was the 10 most listed neighbourhoods in Rio de Janeiro?"
   ]
  },
  {
   "cell_type": "code",
   "execution_count": 19,
   "id": "imposed-giant",
   "metadata": {},
   "outputs": [
    {
     "data": {
      "text/plain": [
       "Text(0.5, 1.0, 'Neighbourhoods')"
      ]
     },
     "execution_count": 19,
     "metadata": {},
     "output_type": "execute_result"
    },
    {
     "data": {
      "image/png": "[encoded data removed]",
      "text/plain": [
       "<Figure size 432x288 with 1 Axes>"
      ]
     },
     "metadata": {
      "needs_background": "light"
     },
     "output_type": "display_data"
    }
   ],
   "source": [
    "def most_listed_neighbourhoods():\n",
    "    \"\"\" Plots a bar graphic of the most listed neighbourhoods\n",
    "    Parameters:\n",
    "    Return:\n",
    "        most_listed_graphic: a bar graphic of the most listed neighbourhoods\n",
    "    \"\"\"\n",
    "#If we dont use [:10] the graphic wont look good because of the great amount of neighbourhoods\n",
    "# Using the [:10] parameter we are cleaning the data \n",
    "    neighbourhood_vals = df_listings.neighbourhood.value_counts()\n",
    "    most_listed_graphic = (neighbourhood_vals[:10]/df_listings.shape[0]).plot(kind=\"bar\")\n",
    "    return most_listed_graphic   \n",
    "    \n",
    "most_listed_neighbourhoods();plt.title(\"Neighbourhoods\")"
   ]
  },
  {
   "cell_type": "markdown",
   "id": "imported-soldier",
   "metadata": {},
   "source": [
    "To answer the total number of listings during the Carnival holidays we have to filter the listings of the days 15 and 16 of February using the calendar dataframe. But, since we don't have the information of this period, we will consider the days 22 and 23 of February.\n",
    "\n",
    "Let's have a look in the data.\n",
    "\n",
    "\n",
    "\n"
   ]
  },
  {
   "cell_type": "code",
   "execution_count": 20,
   "id": "colonial-begin",
   "metadata": {},
   "outputs": [
    {
     "name": "stdout",
     "output_type": "stream",
     "text": [
      "<class 'pandas.core.frame.DataFrame'>\n",
      "RangeIndex: 9685126 entries, 0 to 9685125\n",
      "Data columns (total 7 columns):\n",
      " #   Column          Dtype  \n",
      "---  ------          -----  \n",
      " 0   listing_id      int64  \n",
      " 1   date            object \n",
      " 2   available       object \n",
      " 3   price           object \n",
      " 4   adjusted_price  object \n",
      " 5   minimum_nights  float64\n",
      " 6   maximum_nights  float64\n",
      "dtypes: float64(2), int64(1), object(4)\n",
      "memory usage: 517.2+ MB\n"
     ]
    }
   ],
   "source": [
    "# First, we have to make sure that the date column is the correct type. \n",
    "# Currently, this column is the object type. \n",
    "\n",
    "\n",
    "df_calendar.info()"
   ]
  },
  {
   "cell_type": "code",
   "execution_count": 21,
   "id": "collectible-cooling",
   "metadata": {},
   "outputs": [
    {
     "data": {
      "text/html": [
       "<div>\n",
       "<style scoped>\n",
       "    .dataframe tbody tr th:only-of-type {\n",
       "        vertical-align: middle;\n",
       "    }\n",
       "\n",
       "    .dataframe tbody tr th {\n",
       "        vertical-align: top;\n",
       "    }\n",
       "\n",
       "    .dataframe thead th {\n",
       "        text-align: right;\n",
       "    }\n",
       "</style>\n",
       "<table border=\"1\" class=\"dataframe\">\n",
       "  <thead>\n",
       "    <tr style=\"text-align: right;\">\n",
       "      <th></th>\n",
       "      <th>listing_id</th>\n",
       "      <th>date</th>\n",
       "      <th>available</th>\n",
       "      <th>price</th>\n",
       "      <th>adjusted_price</th>\n",
       "      <th>minimum_nights</th>\n",
       "      <th>maximum_nights</th>\n",
       "    </tr>\n",
       "  </thead>\n",
       "  <tbody>\n",
       "    <tr>\n",
       "      <th>0</th>\n",
       "      <td>45766287</td>\n",
       "      <td>2021-02-23</td>\n",
       "      <td>f</td>\n",
       "      <td>$150.00</td>\n",
       "      <td>$150.00</td>\n",
       "      <td>2.0</td>\n",
       "      <td>1125.0</td>\n",
       "    </tr>\n",
       "    <tr>\n",
       "      <th>366</th>\n",
       "      <td>45765451</td>\n",
       "      <td>2021-02-23</td>\n",
       "      <td>f</td>\n",
       "      <td>$200.00</td>\n",
       "      <td>$200.00</td>\n",
       "      <td>1.0</td>\n",
       "      <td>1125.0</td>\n",
       "    </tr>\n",
       "    <tr>\n",
       "      <th>1702</th>\n",
       "      <td>46820926</td>\n",
       "      <td>2021-02-23</td>\n",
       "      <td>f</td>\n",
       "      <td>$3,000.00</td>\n",
       "      <td>$3,000.00</td>\n",
       "      <td>1.0</td>\n",
       "      <td>28.0</td>\n",
       "    </tr>\n",
       "    <tr>\n",
       "      <th>2551</th>\n",
       "      <td>47324862</td>\n",
       "      <td>2021-02-23</td>\n",
       "      <td>f</td>\n",
       "      <td>$200.00</td>\n",
       "      <td>$200.00</td>\n",
       "      <td>2.0</td>\n",
       "      <td>1125.0</td>\n",
       "    </tr>\n",
       "    <tr>\n",
       "      <th>3008</th>\n",
       "      <td>47979810</td>\n",
       "      <td>2021-02-23</td>\n",
       "      <td>f</td>\n",
       "      <td>$220.00</td>\n",
       "      <td>$220.00</td>\n",
       "      <td>4.0</td>\n",
       "      <td>1125.0</td>\n",
       "    </tr>\n",
       "    <tr>\n",
       "      <th>...</th>\n",
       "      <td>...</td>\n",
       "      <td>...</td>\n",
       "      <td>...</td>\n",
       "      <td>...</td>\n",
       "      <td>...</td>\n",
       "      <td>...</td>\n",
       "      <td>...</td>\n",
       "    </tr>\n",
       "    <tr>\n",
       "      <th>9682569</th>\n",
       "      <td>48229823</td>\n",
       "      <td>2021-02-23</td>\n",
       "      <td>f</td>\n",
       "      <td>$180.00</td>\n",
       "      <td>$180.00</td>\n",
       "      <td>NaN</td>\n",
       "      <td>NaN</td>\n",
       "    </tr>\n",
       "    <tr>\n",
       "      <th>9682936</th>\n",
       "      <td>48229978</td>\n",
       "      <td>2021-02-23</td>\n",
       "      <td>f</td>\n",
       "      <td>$867.00</td>\n",
       "      <td>$867.00</td>\n",
       "      <td>2.0</td>\n",
       "      <td>90.0</td>\n",
       "    </tr>\n",
       "    <tr>\n",
       "      <th>9683666</th>\n",
       "      <td>48230564</td>\n",
       "      <td>2021-02-23</td>\n",
       "      <td>f</td>\n",
       "      <td>$722.00</td>\n",
       "      <td>$722.00</td>\n",
       "      <td>2.0</td>\n",
       "      <td>90.0</td>\n",
       "    </tr>\n",
       "    <tr>\n",
       "      <th>9684396</th>\n",
       "      <td>48230827</td>\n",
       "      <td>2021-02-23</td>\n",
       "      <td>f</td>\n",
       "      <td>$432.00</td>\n",
       "      <td>$432.00</td>\n",
       "      <td>2.0</td>\n",
       "      <td>90.0</td>\n",
       "    </tr>\n",
       "    <tr>\n",
       "      <th>9684761</th>\n",
       "      <td>48230950</td>\n",
       "      <td>2021-02-23</td>\n",
       "      <td>f</td>\n",
       "      <td>$301.00</td>\n",
       "      <td>$301.00</td>\n",
       "      <td>2.0</td>\n",
       "      <td>90.0</td>\n",
       "    </tr>\n",
       "  </tbody>\n",
       "</table>\n",
       "<p>13354 rows × 7 columns</p>\n",
       "</div>"
      ],
      "text/plain": [
       "         listing_id       date available      price adjusted_price  \\\n",
       "0          45766287 2021-02-23         f    $150.00        $150.00   \n",
       "366        45765451 2021-02-23         f    $200.00        $200.00   \n",
       "1702       46820926 2021-02-23         f  $3,000.00      $3,000.00   \n",
       "2551       47324862 2021-02-23         f    $200.00        $200.00   \n",
       "3008       47979810 2021-02-23         f    $220.00        $220.00   \n",
       "...             ...        ...       ...        ...            ...   \n",
       "9682569    48229823 2021-02-23         f    $180.00        $180.00   \n",
       "9682936    48229978 2021-02-23         f    $867.00        $867.00   \n",
       "9683666    48230564 2021-02-23         f    $722.00        $722.00   \n",
       "9684396    48230827 2021-02-23         f    $432.00        $432.00   \n",
       "9684761    48230950 2021-02-23         f    $301.00        $301.00   \n",
       "\n",
       "         minimum_nights  maximum_nights  \n",
       "0                   2.0          1125.0  \n",
       "366                 1.0          1125.0  \n",
       "1702                1.0            28.0  \n",
       "2551                2.0          1125.0  \n",
       "3008                4.0          1125.0  \n",
       "...                 ...             ...  \n",
       "9682569             NaN             NaN  \n",
       "9682936             2.0            90.0  \n",
       "9683666             2.0            90.0  \n",
       "9684396             2.0            90.0  \n",
       "9684761             2.0            90.0  \n",
       "\n",
       "[13354 rows x 7 columns]"
      ]
     },
     "execution_count": 21,
     "metadata": {},
     "output_type": "execute_result"
    }
   ],
   "source": [
    "# Analysing Data\n",
    "df_calendar[\"date\"] = pd.to_datetime(df_calendar[\"date\"])\n",
    "\n",
    "start_date = '2021-02-22'\n",
    "end_date = '2021-02-23'\n",
    "\n",
    "# this function creates a mask to filter the dataset by dates\n",
    "def mask_by_date (start, end):\n",
    "    \"\"\" Creates a mask to be used to filter by a start date and a end date\n",
    "    Parameters:\n",
    "        start (date): The start date to be used in the mask \n",
    "        end (date): The end date to be used in the mask \n",
    "    Return:\n",
    "        mask_by_date: a mask that to be used to filter a dataset by dates\n",
    "    \"\"\"\n",
    "    mask_by_date = (df_calendar['date'] >= start) & (df_calendar['date'] <= end)\n",
    "    return mask_by_date \n",
    "\n",
    "# store the carnival listings in df_carnival_listings \n",
    "\n",
    "df_carnival_listings = df_calendar.loc[mask_by_date(start_date, end_date)]\n",
    "df_carnival_listings \n"
   ]
  },
  {
   "cell_type": "markdown",
   "id": "million-chest",
   "metadata": {},
   "source": [
    "The preview dataframe had 13354 rows, which means that there was a total of 13354 listings in the Carnival Hollidays.\n",
    "\n",
    "4) What was the the total listings during the Carnival holidays in 2021 in Rio de Janeiro?\n",
    "\n",
    "R: 13354\n",
    "\n",
    "In the next cells, we'll treat the data to  find out what was the average price during these days.\n"
   ]
  },
  {
   "cell_type": "code",
   "execution_count": 38,
   "id": "fundamental-identity",
   "metadata": {},
   "outputs": [
    {
     "data": {
      "text/html": [
       "<div>\n",
       "<style scoped>\n",
       "    .dataframe tbody tr th:only-of-type {\n",
       "        vertical-align: middle;\n",
       "    }\n",
       "\n",
       "    .dataframe tbody tr th {\n",
       "        vertical-align: top;\n",
       "    }\n",
       "\n",
       "    .dataframe thead th {\n",
       "        text-align: right;\n",
       "    }\n",
       "</style>\n",
       "<table border=\"1\" class=\"dataframe\">\n",
       "  <thead>\n",
       "    <tr style=\"text-align: right;\">\n",
       "      <th></th>\n",
       "      <th>listing_id</th>\n",
       "      <th>date</th>\n",
       "      <th>available</th>\n",
       "      <th>price</th>\n",
       "      <th>adjusted_price</th>\n",
       "      <th>minimum_nights</th>\n",
       "      <th>maximum_nights</th>\n",
       "    </tr>\n",
       "  </thead>\n",
       "  <tbody>\n",
       "    <tr>\n",
       "      <th>4378033</th>\n",
       "      <td>20873953</td>\n",
       "      <td>2021-02-23</td>\n",
       "      <td>f</td>\n",
       "      <td>NaN</td>\n",
       "      <td>NaN</td>\n",
       "      <td>3.0</td>\n",
       "      <td>1125.0</td>\n",
       "    </tr>\n",
       "  </tbody>\n",
       "</table>\n",
       "</div>"
      ],
      "text/plain": [
       "         listing_id       date available price adjusted_price  minimum_nights  \\\n",
       "4378033    20873953 2021-02-23         f   NaN            NaN             3.0   \n",
       "\n",
       "         maximum_nights  \n",
       "4378033          1125.0  "
      ]
     },
     "execution_count": 38,
     "metadata": {},
     "output_type": "execute_result"
    }
   ],
   "source": [
    "# Find out how many NaN rows are in there in the dataset\n",
    "\n",
    "df_carnival_prices_NaN = df_carnival_listings[df_carnival_listings['price'].isnull()]\n",
    "df_carnival_prices_NaN"
   ]
  },
  {
   "cell_type": "code",
   "execution_count": 23,
   "id": "little-stylus",
   "metadata": {},
   "outputs": [
    {
     "data": {
      "text/plain": [
       "766.4810903916723"
      ]
     },
     "execution_count": 23,
     "metadata": {},
     "output_type": "execute_result"
    }
   ],
   "source": [
    "# store the columns price and date in df_carnival_prices excluding the NaN rows (which is only one)\n",
    "df_carnival_prices = df_carnival_listings[['price', 'date']].dropna()\n",
    "\n",
    "# '\\D' in regular expressions mean not a digit. We are treating the column price to be handled as float types\n",
    "df_carnival_prices['price'] = df_carnival_prices['price'].replace('\\D', '', regex=True).astype(float)\n",
    "\n",
    "\n",
    "# divide prices by 100 to represent cents (or 'centavos' in Portuguese)\n",
    "df_carnival_prices['price']  = df_carnival_prices['price']/100\n",
    "\n",
    "# store the total price of the listings in carnival\n",
    "total_price = sum(df_carnival_prices['price'])\n",
    "\n",
    "#Find the average price of the listings of 22 and 23 of February\n",
    "\n",
    "average_carnival_price = total_price/df_carnival_prices.shape[0]\n",
    "average_carnival_price"
   ]
  },
  {
   "cell_type": "markdown",
   "id": "european-flesh",
   "metadata": {},
   "source": [
    "Finally, the average price of a room in Rio de Janeiro, in Carnival, is approximatelly R$766,48!\n",
    "\n",
    "5) What was the average price to book a room during the period of the Carnival hollidays in Rio de Janeiro?\n",
    "\n",
    "R$766,48!\n"
   ]
  },
  {
   "cell_type": "markdown",
   "id": "supreme-arkansas",
   "metadata": {},
   "source": [
    "# Evaluate the Results"
   ]
  },
  {
   "cell_type": "markdown",
   "id": "sealed-laptop",
   "metadata": {},
   "source": [
    "In this project we answered 5 questions to help us evaluate if the website airbnb is a good alternative to book a room in Rion de Janeiro during the period of Carnival. In the previous sections we created pyhton functions to answer the following questions:\n",
    "    \n",
    "\n",
    "1) How many neighborhoods were listed in Rio de Janeiro?\n",
    "\n",
    "R: 7712 neighbourhoods\n",
    "\n",
    "2) What was the most listed type of room in Rio de Janeiro?\n",
    "\n",
    "R: Entire apartment or room\n",
    "\n",
    "\n"
   ]
  },
  {
   "cell_type": "code",
   "execution_count": 55,
   "id": "thorough-poker",
   "metadata": {},
   "outputs": [
    {
     "data": {
      "image/png": "[encoded data removed]",
      "text/plain": [
       "<Figure size 432x288 with 1 Axes>"
      ]
     },
     "metadata": {
      "needs_background": "light"
     },
     "output_type": "display_data"
    }
   ],
   "source": [
    "most_listed_type_room();plt.title(\"What kind of room are there?\");"
   ]
  },
  {
   "cell_type": "markdown",
   "id": "initial-valley",
   "metadata": {},
   "source": [
    "3) What was the 10 most listed neighbourhoods in Rio de Janeiro?\n",
    "\n",
    "R: Copacabana, Barra da Tijuca, Ipanema, Jacarepagua, Botafogo, Recreio dos Bandeirantes, Leblon, Santa Tereza, Centro, Flamengo\n",
    "\n"
   ]
  },
  {
   "cell_type": "code",
   "execution_count": 51,
   "id": "compound-relay",
   "metadata": {},
   "outputs": [
    {
     "data": {
      "text/plain": [
       "Text(0.5, 1.0, 'Neighbourhoods in Rio de Janeiro')"
      ]
     },
     "execution_count": 51,
     "metadata": {},
     "output_type": "execute_result"
    },
    {
     "data": {
      "image/png": "[encoded data removed]",
      "text/plain": [
       "<Figure size 432x288 with 1 Axes>"
      ]
     },
     "metadata": {
      "needs_background": "light"
     },
     "output_type": "display_data"
    }
   ],
   "source": [
    "most_listed_neighbourhoods();plt.title(\"Neighbourhoods in Rio de Janeiro\")"
   ]
  },
  {
   "cell_type": "markdown",
   "id": "widespread-copper",
   "metadata": {},
   "source": [
    "4) What was the the total listings during the Carnival holidays in 2021 in Rio de Janeiro?\n",
    "\n",
    "R: 13354\n",
    "\n",
    "5) What was the average price to book a room during the period of the Carnival hollidays in Rio de Janeiro?\n",
    "\n",
    "R: R$766,48\n",
    "\n",
    "In the Preparation and Modeling section, you can see the python functions and data manipulation that were done to answer the previous questions.\n",
    "\n",
    "We could see that there are a lot of different options of neighborhoods listed in Airbnb and we also could see that the Copacabana is, by far, the most chosen one. Also, the most listed type of room listed is the entire room or apartment. \n",
    "\n",
    "So, if you are looking for an entire apartment or room to book in Rio de Janeiro, the Airbnb website has some awsome options. But, if you are looking for a shared room, Airbnb may not be the best alternative for you. \n",
    "\n",
    "Finally, you should be prepared to pay an average price of R$766,48 to book a room in Rion de Janeiro during the Carnival Holiday.\n",
    "\n",
    "If you are planning to stay in Rio de Janeiro to celabrate Carnival, take a look at the Airbnb website! There are a lot of good options for you to know the city! "
   ]
  },
  {
   "cell_type": "code",
   "execution_count": null,
   "id": "strong-appreciation",
   "metadata": {},
   "outputs": [],
   "source": [
    "#A web page that was very helpful in this project was: \n",
    "# https://pandas.pydata.org/docs/reference/general_functions.html"
   ]
  }
 ],
 "metadata": {
  "kernelspec": {
   "display_name": "Python 3",
   "language": "python",
   "name": "python3"
  },
  "language_info": {
   "codemirror_mode": {
    "name": "ipython",
    "version": 3
   },
   "file_extension": ".py",
   "mimetype": "text/x-python",
   "name": "python",
   "nbconvert_exporter": "python",
   "pygments_lexer": "ipython3",
   "version": "3.8.8"
  }
 },
 "nbformat": 4,
 "nbformat_minor": 5
}
